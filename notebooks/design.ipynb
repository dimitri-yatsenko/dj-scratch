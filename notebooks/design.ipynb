{
 "cells": [
  {
   "cell_type": "markdown",
   "metadata": {},
   "source": [
    "# Assignment 02\n",
    "Due Sep 12, 2024\n",
    "\n",
    "Design database tables to represent the followig entities. Make sure that each table has a proper primary key. Populate each table with several entries.\n",
    "\n",
    "1. You manage a pet clinic. Design a table for the pets treated in your clinic. For identifying animals, use the [US National Animal Identification System](https://en.wikipedia.org/wiki/National_Animal_Identification_System). Include name, species, date of birth, and sex.\n",
    "\n",
    "2. Now represent the veterinarians in your clinic, including name, highest degree attained, date-of-birth, and hire date.\n",
    "\n",
    "3. US States and Territories, including their capitals, and the year of acceptance into the USA.\n",
    "\n",
    "4. Current members of the [US House of Representatives](https://www.house.gov/representatives). Include state, district, name, party, and phone number.\n",
    "\n",
    "5. Current [US governors](https://www.nga.org/governors/).\n",
    "\n",
    "6. Your homework assignments for this semester, including the course and the due date.\n",
    "\n",
    "7. Students in this class, including names, github accounts, and emails.\n",
    "\n",
    "8. [Boston Marathon champions](https://www.baa.org/races/boston-marathon/results/champions) for each year for both men's and women's open division. Include name, nationality, and finish time.\n",
    "\n",
    "Your assignment will be evaluated on proper design. Choose correct and sufficient attributes, data types, primary key, NOT NULL constraints. Answer the question of how entity integrity will be enforced. Avoid unnecessary attributes. Sample data must be propery inserted, at least 2-3 entries in each table."
   ]
  },
  {
   "cell_type": "markdown",
   "metadata": {},
   "source": [
    "# Connect with IPython \"Magic\"\n",
    "\n",
    "You can execute SQL statements directly from Jupyter with the help of [\"magic commdands\"](https://towardsdatascience.com/jupyter-magics-with-sql-921370099589). \n",
    "\n",
    "The following cell sets up the connection to the database for the Jupyter SQL Magic."
   ]
  },
  {
   "cell_type": "code",
   "execution_count": 2,
   "metadata": {},
   "outputs": [
    {
     "name": "stdout",
     "output_type": "stream",
     "text": [
      "The sql extension is already loaded. To reload it, use:\n",
      "  %reload_ext sql\n"
     ]
    },
    {
     "data": {
      "text/html": [
       "<span style=\"None\">Connecting to &#x27;mysql+pymysql://dev:***@db&#x27;</span>"
      ],
      "text/plain": [
       "Connecting to 'mysql+pymysql://dev:***@db'"
      ]
     },
     "metadata": {},
     "output_type": "display_data"
    }
   ],
   "source": [
    "%load_ext sql\n",
    "%sql mysql+pymysql://dev:devpass@db\n"
   ]
  },
  {
   "cell_type": "markdown",
   "metadata": {},
   "source": [
    "Then you can issue SQL commands from a Jupyter cell by starting it with `%%sql`.\n",
    "Change the cell type to `SQL` for appropriate syntax highlighting."
   ]
  },
  {
   "cell_type": "code",
   "execution_count": 3,
   "metadata": {
    "vscode": {
     "languageId": "sql"
    }
   },
   "outputs": [
    {
     "data": {
      "text/html": [
       "<span style=\"None\">Running query in &#x27;mysql+pymysql://dev:***@db&#x27;</span>"
      ],
      "text/plain": [
       "Running query in 'mysql+pymysql://dev:***@db'"
      ]
     },
     "metadata": {},
     "output_type": "display_data"
    },
    {
     "data": {
      "text/html": [
       "<span style=\"color: green\">6 rows affected.</span>"
      ],
      "text/plain": [
       "6 rows affected."
      ]
     },
     "metadata": {},
     "output_type": "display_data"
    },
    {
     "data": {
      "text/html": [
       "<table>\n",
       "    <thead>\n",
       "        <tr>\n",
       "            <th>User</th>\n",
       "        </tr>\n",
       "    </thead>\n",
       "    <tbody>\n",
       "        <tr>\n",
       "            <td>dev</td>\n",
       "        </tr>\n",
       "        <tr>\n",
       "            <td>root</td>\n",
       "        </tr>\n",
       "        <tr>\n",
       "            <td>mysql.infoschema</td>\n",
       "        </tr>\n",
       "        <tr>\n",
       "            <td>mysql.session</td>\n",
       "        </tr>\n",
       "        <tr>\n",
       "            <td>mysql.sys</td>\n",
       "        </tr>\n",
       "        <tr>\n",
       "            <td>root</td>\n",
       "        </tr>\n",
       "    </tbody>\n",
       "</table>"
      ],
      "text/plain": [
       "+------------------+\n",
       "|       User       |\n",
       "+------------------+\n",
       "|       dev        |\n",
       "|       root       |\n",
       "| mysql.infoschema |\n",
       "|  mysql.session   |\n",
       "|    mysql.sys     |\n",
       "|       root       |\n",
       "+------------------+"
      ]
     },
     "execution_count": 3,
     "metadata": {},
     "output_type": "execute_result"
    }
   ],
   "source": [
    "%%sql\n",
    "-- show all users\n",
    "SELECT User FROM mysql.user"
   ]
  },
  {
   "cell_type": "markdown",
   "metadata": {},
   "source": [
    "We will use SQL magic only for fast interactive SQL queries.  We will not use SQL magic as part of Python code."
   ]
  },
  {
   "cell_type": "markdown",
   "metadata": {},
   "source": [
    "# Connect with Python client\n",
    "\n",
    "To issue SQL queries from Python code, we will use a conventional SQL client, in this case `pymysql`."
   ]
  },
  {
   "cell_type": "code",
   "execution_count": 4,
   "metadata": {},
   "outputs": [],
   "source": [
    "import os\n",
    "import pymysql\n",
    "# create a database connection\n",
    "conn = pymysql.connect(\n",
    "    host=os.environ['DJ_HOST'], \n",
    "    user=os.environ['DJ_USER'], \n",
    "    password=os.environ['DJ_PASS']\n",
    "    )"
   ]
  },
  {
   "cell_type": "code",
   "execution_count": 5,
   "metadata": {},
   "outputs": [
    {
     "data": {
      "text/plain": [
       "(('dev',),\n",
       " ('root',),\n",
       " ('mysql.infoschema',),\n",
       " ('mysql.session',),\n",
       " ('mysql.sys',),\n",
       " ('root',))"
      ]
     },
     "execution_count": 5,
     "metadata": {},
     "output_type": "execute_result"
    }
   ],
   "source": [
    "# crewate a query cursor and issue an SQL query\n",
    "cur = conn.cursor()\n",
    "cur.execute('SELECT User FROM mysql.user')\n",
    "cur.fetchall()"
   ]
  },
  {
   "cell_type": "markdown",
   "metadata": {},
   "source": [
    "We are all set for executing all the database queries in this book!"
   ]
  },
  {
   "cell_type": "markdown",
   "metadata": {},
   "source": [
    "# Completed Assignment:\n"
   ]
  },
  {
   "cell_type": "markdown",
   "metadata": {},
   "source": []
  }
 ],
 "metadata": {
  "kernelspec": {
   "display_name": "base",
   "language": "python",
   "name": "python3"
  },
  "language_info": {
   "codemirror_mode": {
    "name": "ipython",
    "version": 3
   },
   "file_extension": ".py",
   "mimetype": "text/x-python",
   "name": "python",
   "nbconvert_exporter": "python",
   "pygments_lexer": "ipython3",
   "version": "3.13.2"
  }
 },
 "nbformat": 4,
 "nbformat_minor": 2
}
