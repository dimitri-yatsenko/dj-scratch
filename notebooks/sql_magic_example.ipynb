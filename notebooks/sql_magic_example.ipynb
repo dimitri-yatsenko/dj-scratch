{
 "cells": [
  {
   "cell_type": "markdown",
   "id": "intro",
   "metadata": {},
   "source": [
    "# SQL Magic Connection Example\n",
    "\n",
    "This notebook demonstrates how to use the `sql` IPython magic to connect to a database and run queries."
   ]
  },
  {
   "cell_type": "code",
   "execution_count": 1,
   "id": "e87f2ae6",
   "metadata": {},
   "outputs": [
    {
     "data": {
      "text/html": [
       "<span style=\"None\">Connecting to &#x27;mysql+pymysql://dev:***@db&#x27;</span>"
      ],
      "text/plain": [
       "Connecting to 'mysql+pymysql://dev:***@db'"
      ]
     },
     "metadata": {},
     "output_type": "display_data"
    }
   ],
   "source": [
    "%load_ext sql\n",
    "%sql mysql+pymysql://dev:devpass@db"
   ]
  },
  {
   "cell_type": "code",
   "execution_count": null,
   "id": "connect",
   "metadata": {},
   "outputs": [],
   "source": [
    "%%sql\n",
    "SHOW SCHEMAS"
   ]
  }
 ],
 "metadata": {
  "kernelspec": {
   "display_name": "base",
   "language": "python",
   "name": "python3"
  },
  "language_info": {
   "codemirror_mode": {
    "name": "ipython",
    "version": 3
   },
   "file_extension": ".py",
   "mimetype": "text/x-python",
   "name": "python",
   "nbconvert_exporter": "python",
   "pygments_lexer": "ipython3",
   "version": "3.13.2"
  }
 },
 "nbformat": 4,
 "nbformat_minor": 5
}
