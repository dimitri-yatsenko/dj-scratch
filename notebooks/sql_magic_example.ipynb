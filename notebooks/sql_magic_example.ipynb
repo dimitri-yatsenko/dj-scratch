{
 "cells": [
  {
   "cell_type": "markdown",
   "id": "intro",
   "metadata": {},
   "source": [
    "# SQL Magic Connection Example\n",
    "\n",
    "This notebook demonstrates how to use the `sql` IPython magic to connect to a database and run queries."
   ]
  },
  {
   "cell_type": "code",
   "execution_count": null,
   "id": "load-ext",
   "metadata": {},
   "outputs": [],
   "source": [
    "%load_ext sql"
   ]
  },
  {
   "cell_type": "code",
   "execution_count": null,
   "id": "connect",
   "metadata": {},
   "outputs": [],
   "source": [
    "%sql mysql+pymysql://root:example@db/dev"
   ]
  },
  {
   "cell_type": "code",
   "execution_count": null,
   "id": "query",
   "metadata": {},
   "outputs": [],
   "source": [
    "%%sql\n",
    "SELECT 1 AS result;"
   ]
  }
 ],
 "metadata": {
  "kernelspec": {
   "display_name": "Python 3",
   "language": "python",
   "name": "python3"
  },
  "language_info": {
   "name": "python",
   "version": "3.12"
  }
 },
 "nbformat": 4,
 "nbformat_minor": 5
}
